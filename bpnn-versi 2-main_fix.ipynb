{
 "cells": [
  {
   "cell_type": "code",
   "execution_count": 627,
   "metadata": {},
   "outputs": [],
   "source": [
    "#IMPORT LIBRARY\n",
    "import pandas as pd\n",
    "import numpy as np \n",
    "import matplotlib.pyplot as plt\n",
    "import time\n",
    "import math\n",
    "import tensorflow as tf\n",
    "import random\n",
    "\n",
    "from math import exp\n",
    "\n",
    "from sklearn import preprocessing\n",
    "from sklearn.preprocessing import MinMaxScaler \n",
    "from sklearn.model_selection import train_test_split\n",
    "from sklearn.metrics import mean_squared_error, mean_absolute_percentage_error\n",
    "from sklearn.metrics import accuracy_score\n",
    "\n",
    "from tensorflow import keras\n",
    "from keras import layers\n",
    "from keras.layers import Dense"
   ]
  },
  {
   "cell_type": "code",
   "execution_count": 628,
   "metadata": {},
   "outputs": [],
   "source": [
    "#DATA UNDERSTANDING\n",
    "data_dir = '/Users/macbookair/Documents/Proyek Informatika /JST-Backpropagation-Backup/datasets/dataipm.csv'\n",
    "#global variabel intialization\n",
    "train_ratio = 0.8\n",
    "epochs = 1000\n",
    "batch_size = 50\n",
    "lr = 0.0001\n",
    "atr_amounts = 5\n",
    "neurons = 9\n",
    "activation = 'sigmoid'\n",
    "#optimizer\n",
    "#opt = tf.keras.optimizers.experimental.SGD(learning_rate=lr)"
   ]
  },
  {
   "cell_type": "code",
   "execution_count": 629,
   "metadata": {},
   "outputs": [
    {
     "data": {
      "text/html": [
       "<div>\n",
       "<style scoped>\n",
       "    .dataframe tbody tr th:only-of-type {\n",
       "        vertical-align: middle;\n",
       "    }\n",
       "\n",
       "    .dataframe tbody tr th {\n",
       "        vertical-align: top;\n",
       "    }\n",
       "\n",
       "    .dataframe thead th {\n",
       "        text-align: right;\n",
       "    }\n",
       "</style>\n",
       "<table border=\"1\" class=\"dataframe\">\n",
       "  <thead>\n",
       "    <tr style=\"text-align: right;\">\n",
       "      <th></th>\n",
       "      <th>Tahun</th>\n",
       "      <th>Data</th>\n",
       "    </tr>\n",
       "  </thead>\n",
       "  <tbody>\n",
       "    <tr>\n",
       "      <th>0</th>\n",
       "      <td>1996</td>\n",
       "      <td>65.07</td>\n",
       "    </tr>\n",
       "    <tr>\n",
       "      <th>1</th>\n",
       "      <td>1997</td>\n",
       "      <td>64.08</td>\n",
       "    </tr>\n",
       "    <tr>\n",
       "      <th>2</th>\n",
       "      <td>1998</td>\n",
       "      <td>64.08</td>\n",
       "    </tr>\n",
       "    <tr>\n",
       "      <th>3</th>\n",
       "      <td>1999</td>\n",
       "      <td>63.09</td>\n",
       "    </tr>\n",
       "    <tr>\n",
       "      <th>4</th>\n",
       "      <td>2000</td>\n",
       "      <td>63.58</td>\n",
       "    </tr>\n",
       "    <tr>\n",
       "      <th>5</th>\n",
       "      <td>2001</td>\n",
       "      <td>63.58</td>\n",
       "    </tr>\n",
       "    <tr>\n",
       "      <th>6</th>\n",
       "      <td>2002</td>\n",
       "      <td>64.07</td>\n",
       "    </tr>\n",
       "    <tr>\n",
       "      <th>7</th>\n",
       "      <td>2003</td>\n",
       "      <td>65.08</td>\n",
       "    </tr>\n",
       "    <tr>\n",
       "      <th>8</th>\n",
       "      <td>2004</td>\n",
       "      <td>66.09</td>\n",
       "    </tr>\n",
       "    <tr>\n",
       "      <th>9</th>\n",
       "      <td>2005</td>\n",
       "      <td>67.06</td>\n",
       "    </tr>\n",
       "  </tbody>\n",
       "</table>\n",
       "</div>"
      ],
      "text/plain": [
       "   Tahun   Data\n",
       "0   1996  65.07\n",
       "1   1997  64.08\n",
       "2   1998  64.08\n",
       "3   1999  63.09\n",
       "4   2000  63.58\n",
       "5   2001  63.58\n",
       "6   2002  64.07\n",
       "7   2003  65.08\n",
       "8   2004  66.09\n",
       "9   2005  67.06"
      ]
     },
     "execution_count": 629,
     "metadata": {},
     "output_type": "execute_result"
    }
   ],
   "source": [
    "df = pd.read_csv(data_dir)\n",
    "df.head(10)"
   ]
  },
  {
   "cell_type": "code",
   "execution_count": 630,
   "metadata": {},
   "outputs": [
    {
     "name": "stdout",
     "output_type": "stream",
     "text": [
      "<class 'pandas.core.frame.DataFrame'>\n",
      "RangeIndex: 27 entries, 0 to 26\n",
      "Data columns (total 2 columns):\n",
      " #   Column  Non-Null Count  Dtype  \n",
      "---  ------  --------------  -----  \n",
      " 0   Tahun   27 non-null     int64  \n",
      " 1   Data    27 non-null     float64\n",
      "dtypes: float64(1), int64(1)\n",
      "memory usage: 560.0 bytes\n"
     ]
    }
   ],
   "source": [
    "df.info()"
   ]
  },
  {
   "cell_type": "code",
   "execution_count": 631,
   "metadata": {},
   "outputs": [
    {
     "data": {
      "text/html": [
       "<div>\n",
       "<style scoped>\n",
       "    .dataframe tbody tr th:only-of-type {\n",
       "        vertical-align: middle;\n",
       "    }\n",
       "\n",
       "    .dataframe tbody tr th {\n",
       "        vertical-align: top;\n",
       "    }\n",
       "\n",
       "    .dataframe thead th {\n",
       "        text-align: right;\n",
       "    }\n",
       "</style>\n",
       "<table border=\"1\" class=\"dataframe\">\n",
       "  <thead>\n",
       "    <tr style=\"text-align: right;\">\n",
       "      <th></th>\n",
       "      <th>Tahun</th>\n",
       "      <th>Data</th>\n",
       "    </tr>\n",
       "  </thead>\n",
       "  <tbody>\n",
       "    <tr>\n",
       "      <th>count</th>\n",
       "      <td>27.000000</td>\n",
       "      <td>27.000000</td>\n",
       "    </tr>\n",
       "    <tr>\n",
       "      <th>mean</th>\n",
       "      <td>2009.000000</td>\n",
       "      <td>66.023704</td>\n",
       "    </tr>\n",
       "    <tr>\n",
       "      <th>std</th>\n",
       "      <td>7.937254</td>\n",
       "      <td>2.244076</td>\n",
       "    </tr>\n",
       "    <tr>\n",
       "      <th>min</th>\n",
       "      <td>1996.000000</td>\n",
       "      <td>62.050000</td>\n",
       "    </tr>\n",
       "    <tr>\n",
       "      <th>25%</th>\n",
       "      <td>2002.500000</td>\n",
       "      <td>64.080000</td>\n",
       "    </tr>\n",
       "    <tr>\n",
       "      <th>50%</th>\n",
       "      <td>2009.000000</td>\n",
       "      <td>66.090000</td>\n",
       "    </tr>\n",
       "    <tr>\n",
       "      <th>75%</th>\n",
       "      <td>2015.500000</td>\n",
       "      <td>68.150000</td>\n",
       "    </tr>\n",
       "    <tr>\n",
       "      <th>max</th>\n",
       "      <td>2022.000000</td>\n",
       "      <td>70.010000</td>\n",
       "    </tr>\n",
       "  </tbody>\n",
       "</table>\n",
       "</div>"
      ],
      "text/plain": [
       "             Tahun       Data\n",
       "count    27.000000  27.000000\n",
       "mean   2009.000000  66.023704\n",
       "std       7.937254   2.244076\n",
       "min    1996.000000  62.050000\n",
       "25%    2002.500000  64.080000\n",
       "50%    2009.000000  66.090000\n",
       "75%    2015.500000  68.150000\n",
       "max    2022.000000  70.010000"
      ]
     },
     "execution_count": 631,
     "metadata": {},
     "output_type": "execute_result"
    }
   ],
   "source": [
    "df.describe()"
   ]
  },
  {
   "cell_type": "code",
   "execution_count": 632,
   "metadata": {},
   "outputs": [],
   "source": [
    "# convert an array of values into a dataset matrix\n",
    "def create_dataset(arr, look_back=1):\n",
    "  data = []\n",
    "  for e in range(len(arr)):\n",
    "    lookback_data = arr[e:look_back+e]\n",
    "    if len(lookback_data) == look_back:\n",
    "      data.append(arr[e:look_back+e])\n",
    "  columns = [\"x\"+str(i) for i in range(1,look_back)]\n",
    "  columns.append(\"y\")\n",
    "  return pd.DataFrame(data, columns=columns)"
   ]
  },
  {
   "cell_type": "code",
   "execution_count": 633,
   "metadata": {},
   "outputs": [
    {
     "data": {
      "text/html": [
       "<div>\n",
       "<style scoped>\n",
       "    .dataframe tbody tr th:only-of-type {\n",
       "        vertical-align: middle;\n",
       "    }\n",
       "\n",
       "    .dataframe tbody tr th {\n",
       "        vertical-align: top;\n",
       "    }\n",
       "\n",
       "    .dataframe thead th {\n",
       "        text-align: right;\n",
       "    }\n",
       "</style>\n",
       "<table border=\"1\" class=\"dataframe\">\n",
       "  <thead>\n",
       "    <tr style=\"text-align: right;\">\n",
       "      <th></th>\n",
       "      <th>x1</th>\n",
       "      <th>x2</th>\n",
       "      <th>x3</th>\n",
       "      <th>x4</th>\n",
       "      <th>x5</th>\n",
       "      <th>y</th>\n",
       "    </tr>\n",
       "  </thead>\n",
       "  <tbody>\n",
       "    <tr>\n",
       "      <th>17</th>\n",
       "      <td>64.57</td>\n",
       "      <td>66.09</td>\n",
       "      <td>66.04</td>\n",
       "      <td>66.19</td>\n",
       "      <td>66.89</td>\n",
       "      <td>67.81</td>\n",
       "    </tr>\n",
       "    <tr>\n",
       "      <th>18</th>\n",
       "      <td>66.09</td>\n",
       "      <td>66.04</td>\n",
       "      <td>66.19</td>\n",
       "      <td>66.89</td>\n",
       "      <td>67.81</td>\n",
       "      <td>68.27</td>\n",
       "    </tr>\n",
       "    <tr>\n",
       "      <th>19</th>\n",
       "      <td>66.04</td>\n",
       "      <td>66.19</td>\n",
       "      <td>66.89</td>\n",
       "      <td>67.81</td>\n",
       "      <td>68.27</td>\n",
       "      <td>68.22</td>\n",
       "    </tr>\n",
       "    <tr>\n",
       "      <th>20</th>\n",
       "      <td>66.19</td>\n",
       "      <td>66.89</td>\n",
       "      <td>67.81</td>\n",
       "      <td>68.27</td>\n",
       "      <td>68.22</td>\n",
       "      <td>68.43</td>\n",
       "    </tr>\n",
       "    <tr>\n",
       "      <th>21</th>\n",
       "      <td>66.89</td>\n",
       "      <td>67.81</td>\n",
       "      <td>68.27</td>\n",
       "      <td>68.22</td>\n",
       "      <td>68.43</td>\n",
       "      <td>68.89</td>\n",
       "    </tr>\n",
       "  </tbody>\n",
       "</table>\n",
       "</div>"
      ],
      "text/plain": [
       "       x1     x2     x3     x4     x5      y\n",
       "17  64.57  66.09  66.04  66.19  66.89  67.81\n",
       "18  66.09  66.04  66.19  66.89  67.81  68.27\n",
       "19  66.04  66.19  66.89  67.81  68.27  68.22\n",
       "20  66.19  66.89  67.81  68.27  68.22  68.43\n",
       "21  66.89  67.81  68.27  68.22  68.43  68.89"
      ]
     },
     "execution_count": 633,
     "metadata": {},
     "output_type": "execute_result"
    }
   ],
   "source": [
    "timeseries_df = create_dataset(df[\"Data\"].values, 6)\n",
    "timeseries_df.tail()"
   ]
  },
  {
   "cell_type": "code",
   "execution_count": 634,
   "metadata": {},
   "outputs": [
    {
     "data": {
      "image/png": "[encoded data removed]",
      "text/plain": [
       "<Figure size 432x288 with 1 Axes>"
      ]
     },
     "metadata": {
      "needs_background": "dark"
     },
     "output_type": "display_data"
    }
   ],
   "source": [
    "#Grafik dataset real\n",
    "df.set_index(\"Tahun\", inplace=True)\n",
    "plt.plot(df)\n",
    "plt.title(\"Data IPM\")\n",
    "plt.xlabel(\"Tahun\")\n",
    "plt.ylabel(\"Data\")\n",
    "plt.show()"
   ]
  },
  {
   "cell_type": "code",
   "execution_count": 635,
   "metadata": {},
   "outputs": [],
   "source": [
    "#DATA PREPARATION\n",
    "\n",
    "#Normalisasi dengan MinMax\n",
    "minmax_scaler = preprocessing.MinMaxScaler(feature_range=(0,1))\n",
    "minmax_scaled = minmax_scaler.fit_transform(np.array(df))\n",
    "scaled_data = minmax_scaled"
   ]
  },
  {
   "cell_type": "code",
   "execution_count": 636,
   "metadata": {},
   "outputs": [
    {
     "data": {
      "text/plain": [
       "array([[0.37939698],\n",
       "       [0.25502513],\n",
       "       [0.25502513],\n",
       "       [0.13065327],\n",
       "       [0.19221106],\n",
       "       [0.19221106],\n",
       "       [0.25376884],\n",
       "       [0.38065327],\n",
       "       [0.50753769],\n",
       "       [0.62939698],\n",
       "       [0.75753769],\n",
       "       [0.87562814],\n",
       "       [0.87939698],\n",
       "       [1.        ],\n",
       "       [0.        ],\n",
       "       [0.1281407 ],\n",
       "       [0.26758794],\n",
       "       [0.31658291],\n",
       "       [0.50753769],\n",
       "       [0.50125628],\n",
       "       [0.5201005 ],\n",
       "       [0.6080402 ],\n",
       "       [0.72361809],\n",
       "       [0.78140704],\n",
       "       [0.77512563],\n",
       "       [0.80150754],\n",
       "       [0.85929648]])"
      ]
     },
     "execution_count": 636,
     "metadata": {},
     "output_type": "execute_result"
    }
   ],
   "source": [
    "scaled_data"
   ]
  },
  {
   "cell_type": "code",
   "execution_count": 637,
   "metadata": {},
   "outputs": [],
   "source": [
    "X = timeseries_df.drop([\"y\"],axis=1).values\n",
    "y = timeseries_df[\"y\"].values.reshape(-1,1)"
   ]
  },
  {
   "cell_type": "code",
   "execution_count": 638,
   "metadata": {},
   "outputs": [],
   "source": [
    "X_scaled = minmax_scaler.fit_transform(X)\n",
    "y_scaled = minmax_scaler.fit_transform(y)"
   ]
  },
  {
   "cell_type": "code",
   "execution_count": 639,
   "metadata": {},
   "outputs": [
    {
     "name": "stdout",
     "output_type": "stream",
     "text": [
      "[[0.37939698 0.25502513 0.25502513 0.13065327 0.19221106]\n",
      " [0.25502513 0.25502513 0.13065327 0.19221106 0.19221106]\n",
      " [0.25502513 0.13065327 0.19221106 0.19221106 0.25376884]\n",
      " [0.13065327 0.19221106 0.19221106 0.25376884 0.38065327]\n",
      " [0.19221106 0.19221106 0.25376884 0.38065327 0.50753769]\n",
      " [0.19221106 0.25376884 0.38065327 0.50753769 0.62939698]\n",
      " [0.25376884 0.38065327 0.50753769 0.62939698 0.75753769]\n",
      " [0.38065327 0.50753769 0.62939698 0.75753769 0.87562814]\n",
      " [0.50753769 0.62939698 0.75753769 0.87562814 0.87939698]\n",
      " [0.62939698 0.75753769 0.87562814 0.87939698 1.        ]\n",
      " [0.75753769 0.87562814 0.87939698 1.         0.        ]\n",
      " [0.87562814 0.87939698 1.         0.         0.1281407 ]\n",
      " [0.87939698 1.         0.         0.1281407  0.26758794]\n",
      " [1.         0.         0.1281407  0.26758794 0.31658291]\n",
      " [0.         0.1281407  0.26758794 0.31658291 0.50753769]\n",
      " [0.1281407  0.26758794 0.31658291 0.50753769 0.50125628]\n",
      " [0.26758794 0.31658291 0.50753769 0.50125628 0.5201005 ]\n",
      " [0.31658291 0.50753769 0.50125628 0.5201005  0.6080402 ]\n",
      " [0.50753769 0.50125628 0.5201005  0.6080402  0.72361809]\n",
      " [0.50125628 0.5201005  0.6080402  0.72361809 0.78140704]\n",
      " [0.5201005  0.6080402  0.72361809 0.78140704 0.77512563]\n",
      " [0.6080402  0.72361809 0.78140704 0.77512563 0.80150754]]\n"
     ]
    }
   ],
   "source": [
    "print(X_scaled)"
   ]
  },
  {
   "cell_type": "code",
   "execution_count": 640,
   "metadata": {},
   "outputs": [],
   "source": [
    "#Preparing Train Data\n",
    "\n",
    "#Length of Train Data\n",
    "len_datatrain= math.ceil(len(df)* train_ratio)\n",
    "\n",
    "#Train data to be scaled process\n",
    "train_data = scaled_data[0:len_datatrain, :]\n",
    "\n",
    "#Splitting for training data\n",
    "X_train = [] #1D list\n",
    "y_train = []\n",
    "for i in range(atr_amounts, len(train_data)):\n",
    "  X_train.append(train_data[i - atr_amounts: i,0])\n",
    "  y_train.append(train_data[i, 0])\n",
    "\n",
    "#Coverting x & y train to be arrays in numpy\n",
    "X_train, y_train = np.array(X_train), np.array(y_train)\n",
    "\n",
    "#Scaling data for backprop\n",
    "# X_train = np.reshape(X_train, (X_train.shape[0], X_train.shape[1], 1)) #X_train is a one dimensional list\n",
    "# y_train = y_train.reshape((y_train.shape[0], y_train.shape[1], 1))\n",
    "# X_train = X_train.reshape(((X_train.shape + (1,))))\n",
    "#y_train = y_train.reshape(((y_train.shape + (1,))))"
   ]
  },
  {
   "cell_type": "code",
   "execution_count": 641,
   "metadata": {},
   "outputs": [
    {
     "data": {
      "text/plain": [
       "(17, 5)"
      ]
     },
     "execution_count": 641,
     "metadata": {},
     "output_type": "execute_result"
    }
   ],
   "source": [
    "X_train.shape"
   ]
  },
  {
   "cell_type": "code",
   "execution_count": 642,
   "metadata": {},
   "outputs": [],
   "source": [
    "X_train = np.reshape(X_train, (X_train.shape[0], X_train.shape[1], 1)) #X_train is a one dimensional list"
   ]
  },
  {
   "cell_type": "code",
   "execution_count": 643,
   "metadata": {},
   "outputs": [],
   "source": [
    "test_data = scaled_data[len_datatrain - atr_amounts:, :]\n",
    "\n",
    "#Splitting for Data test\n",
    "X_test = []\n",
    "y_test = df.iloc[len_datatrain:, :]\n",
    "for i in range(atr_amounts, len(test_data)):\n",
    "  X_test.append(test_data[i-atr_amounts:i,0])\n",
    "\n",
    "#Converting X_test to be array in numpy\n",
    "X_test = np.array(X_test)\n",
    "\n",
    "#Scaling data\n",
    "# X_test = np.reshape(X_test, (X_test.shape + (1,)))\n",
    "X_test = np.reshape(X_test, (X_test.shape[0],X_test.shape[1],1))"
   ]
  },
  {
   "cell_type": "code",
   "execution_count": 644,
   "metadata": {},
   "outputs": [],
   "source": [
    "#MODELING\n",
    "from keras import backend as K\n",
    "def mean_squared_error(y_actual, y_pred):\n",
    "    return K.mean(K.square(y_pred - y_actual), axis=-1)\n",
    "\n",
    "def mse(actual, predicted):\n",
    "    actual = np.array(actual, dtype=\"float64\")\n",
    "    predicted = np.array(predicted, dtype=\"float64\")\n",
    "    differences = np.subtract(actual, predicted)\n",
    "    squared_differences = np.square(differences)\n",
    "    return squared_differences.mean()\n",
    "\n",
    "def mape(actual, pred): \n",
    "    actual = np.array(actual, dtype=\"float64\")\n",
    "    pred = np.array(pred, dtype=\"float64\")\n",
    "    return np.mean(np.abs((actual - pred) / actual)) * 100"
   ]
  },
  {
   "cell_type": "code",
   "execution_count": 646,
   "metadata": {},
   "outputs": [
    {
     "name": "stdout",
     "output_type": "stream",
     "text": [
      "Epoch 1/10\n",
      "1/1 [==============================] - 3s 3s/step - loss: 0.8648 - MAE: 0.8915\n",
      "Epoch 2/10\n",
      "1/1 [==============================] - 0s 33ms/step - loss: 0.8505 - MAE: 0.8834\n",
      "Epoch 3/10\n",
      "1/1 [==============================] - 0s 16ms/step - loss: 0.8363 - MAE: 0.8753\n",
      "Epoch 4/10\n",
      "1/1 [==============================] - 0s 21ms/step - loss: 0.8222 - MAE: 0.8672\n",
      "Epoch 5/10\n",
      "1/1 [==============================] - 0s 16ms/step - loss: 0.8083 - MAE: 0.8592\n",
      "Epoch 6/10\n",
      "1/1 [==============================] - 0s 16ms/step - loss: 0.7946 - MAE: 0.8511\n",
      "Epoch 7/10\n",
      "1/1 [==============================] - 0s 30ms/step - loss: 0.7810 - MAE: 0.8430\n",
      "Epoch 8/10\n",
      "1/1 [==============================] - 0s 23ms/step - loss: 0.7675 - MAE: 0.8350\n",
      "Epoch 9/10\n",
      "1/1 [==============================] - 0s 23ms/step - loss: 0.7542 - MAE: 0.8270\n",
      "Epoch 10/10\n",
      "1/1 [==============================] - 0s 23ms/step - loss: 0.7411 - MAE: 0.8190\n"
     ]
    }
   ],
   "source": [
    "#Architecture Model Backpropogation\n",
    "#digunakan untuk intinya hasilnya ga berubah berubah\n",
    "random.seed(10)\n",
    "tf.random.set_seed(10)\n",
    "\n",
    "#kernel initializer digunakan untuk inisialisasi bobot\n",
    "model = tf.keras.models.Sequential([\n",
    "        tf.keras.layers.Dense(neurons, input_shape=(atr_amounts,), activation=activation),\n",
    "        tf.keras.layers.Dense(1)])\n",
    "\n",
    "\n",
    "#Compiling Models\n",
    "model.compile(optimizer='adam',\n",
    "              loss='mean_squared_error',\n",
    "              metrics=[\"MAE\"]) #matriks to evaluate model \n",
    "\n",
    "#Training Model\n",
    "history = model.fit(X_train,\n",
    "                    y_train,\n",
    "                    verbose=1,\n",
    "                    epochs=10,\n",
    "                    batch_size=32)\n"
   ]
  },
  {
   "cell_type": "code",
   "execution_count": 651,
   "metadata": {},
   "outputs": [
    {
     "name": "stdout",
     "output_type": "stream",
     "text": [
      "1/1 [==============================] - 0s 60ms/step\n"
     ]
    },
    {
     "data": {
      "text/plain": [
       "array([[59.850037],\n",
       "       [60.026268],\n",
       "       [60.39563 ],\n",
       "       [60.63884 ],\n",
       "       [60.626453]], dtype=float32)"
      ]
     },
     "execution_count": 651,
     "metadata": {},
     "output_type": "execute_result"
    }
   ],
   "source": [
    "#MODEL EVALUATION\n",
    "#Predict HDI \n",
    "pred = model.predict(X_test)\n",
    "pred = minmax_scaler.inverse_transform(pred) #Undo Scalling\n",
    "pred"
   ]
  },
  {
   "cell_type": "code",
   "execution_count": 652,
   "metadata": {},
   "outputs": [
    {
     "name": "stdout",
     "output_type": "stream",
     "text": [
      "1/1 [==============================] - 0s 47ms/step - loss: 4698.2314 - MAE: 68.5429\n",
      "Loss on testing set: [4698.2314453125, 68.54291534423828]\n"
     ]
    }
   ],
   "source": [
    "\n",
    "# Evaluate the performance of the model\n",
    "# loss = model.evaluate(test_data[:, :3], test_data[:, 3:])\n",
    "loss = model.evaluate(X_test, y_test)\n",
    "print(\"Loss on testing set:\", loss)"
   ]
  },
  {
   "cell_type": "code",
   "execution_count": 653,
   "metadata": {},
   "outputs": [
    {
     "data": {
      "text/plain": [
       "64.30585656440607"
      ]
     },
     "execution_count": 653,
     "metadata": {},
     "output_type": "execute_result"
    }
   ],
   "source": [
    "mse(np.array(y_test), pred)"
   ]
  },
  {
   "cell_type": "code",
   "execution_count": 654,
   "metadata": {},
   "outputs": [
    {
     "data": {
      "text/html": [
       "<div>\n",
       "<style scoped>\n",
       "    .dataframe tbody tr th:only-of-type {\n",
       "        vertical-align: middle;\n",
       "    }\n",
       "\n",
       "    .dataframe tbody tr th {\n",
       "        vertical-align: top;\n",
       "    }\n",
       "\n",
       "    .dataframe thead th {\n",
       "        text-align: right;\n",
       "    }\n",
       "</style>\n",
       "<table border=\"1\" class=\"dataframe\">\n",
       "  <thead>\n",
       "    <tr style=\"text-align: right;\">\n",
       "      <th></th>\n",
       "      <th>Data</th>\n",
       "    </tr>\n",
       "    <tr>\n",
       "      <th>Tahun</th>\n",
       "      <th></th>\n",
       "    </tr>\n",
       "  </thead>\n",
       "  <tbody>\n",
       "    <tr>\n",
       "      <th>2018</th>\n",
       "      <td>67.81</td>\n",
       "    </tr>\n",
       "    <tr>\n",
       "      <th>2019</th>\n",
       "      <td>68.27</td>\n",
       "    </tr>\n",
       "    <tr>\n",
       "      <th>2020</th>\n",
       "      <td>68.22</td>\n",
       "    </tr>\n",
       "    <tr>\n",
       "      <th>2021</th>\n",
       "      <td>68.43</td>\n",
       "    </tr>\n",
       "    <tr>\n",
       "      <th>2022</th>\n",
       "      <td>68.89</td>\n",
       "    </tr>\n",
       "  </tbody>\n",
       "</table>\n",
       "</div>"
      ],
      "text/plain": [
       "        Data\n",
       "Tahun       \n",
       "2018   67.81\n",
       "2019   68.27\n",
       "2020   68.22\n",
       "2021   68.43\n",
       "2022   68.89"
      ]
     },
     "execution_count": 654,
     "metadata": {},
     "output_type": "execute_result"
    }
   ],
   "source": [
    "y_test"
   ]
  },
  {
   "cell_type": "code",
   "execution_count": 656,
   "metadata": {},
   "outputs": [
    {
     "name": "stderr",
     "output_type": "stream",
     "text": [
      "/var/folders/0h/5wc5zkn126g3bxj_gr_hf8f40000gn/T/ipykernel_1325/1331281217.py:5: SettingWithCopyWarning: \n",
      "A value is trying to be set on a copy of a slice from a DataFrame.\n",
      "Try using .loc[row_indexer,col_indexer] = value instead\n",
      "\n",
      "See the caveats in the documentation: https://pandas.pydata.org/pandas-docs/stable/user_guide/indexing.html#returning-a-view-versus-a-copy\n",
      "  valid[\"Prediction\"] = pred\n",
      "/var/folders/0h/5wc5zkn126g3bxj_gr_hf8f40000gn/T/ipykernel_1325/1331281217.py:6: SettingWithCopyWarning: \n",
      "A value is trying to be set on a copy of a slice from a DataFrame.\n",
      "Try using .loc[row_indexer,col_indexer] = value instead\n",
      "\n",
      "See the caveats in the documentation: https://pandas.pydata.org/pandas-docs/stable/user_guide/indexing.html#returning-a-view-versus-a-copy\n",
      "  valid['MSE'] = mean_squared_error(y_test, pred)\n"
     ]
    },
    {
     "data": {
      "image/png": "[encoded data removed]",
      "text/plain": [
       "<Figure size 1080x360 with 2 Axes>"
      ]
     },
     "metadata": {},
     "output_type": "display_data"
    }
   ],
   "source": [
    "#Plotting Prediction Values\n",
    "\n",
    "train = df[:len_datatrain] #train set\n",
    "valid = df[len_datatrain:] #test set\n",
    "valid[\"Prediction\"] = pred\n",
    "valid['MSE'] = mean_squared_error(y_test, pred) \n",
    "\n",
    "#Graph Predict\n",
    "plt.figure(figsize=(15,5), facecolor='#464745')\n",
    "plt.xlabel('Tahun', fontsize=15)\n",
    "ax = plt.axes()\n",
    "ax.set_facecolor('#464745')\n",
    "plt.ylabel('Data', fontsize=15)\n",
    "plt.plot(train['Data'])\n",
    "plt.plot(valid[['Data', 'Prediction']])\n",
    "plt.legend(['Train', 'Test', 'Prediction'], loc='lower left')\n",
    "plt.rcParams.update({\n",
    "    'text.color': '#464745',\n",
    "    'axes.labelcolor': 'white',\n",
    "    'xtick.color': 'white',\n",
    "    'ytick.color': 'white'\n",
    "    })\n",
    "plt.savefig('res_tmp.png', transparent=True)\n",
    "plt.show()"
   ]
  },
  {
   "cell_type": "code",
   "execution_count": 657,
   "metadata": {},
   "outputs": [
    {
     "data": {
      "text/html": [
       "<div>\n",
       "<style scoped>\n",
       "    .dataframe tbody tr th:only-of-type {\n",
       "        vertical-align: middle;\n",
       "    }\n",
       "\n",
       "    .dataframe tbody tr th {\n",
       "        vertical-align: top;\n",
       "    }\n",
       "\n",
       "    .dataframe thead th {\n",
       "        text-align: right;\n",
       "    }\n",
       "</style>\n",
       "<table border=\"1\" class=\"dataframe\">\n",
       "  <thead>\n",
       "    <tr style=\"text-align: right;\">\n",
       "      <th></th>\n",
       "      <th>Data</th>\n",
       "      <th>Prediction</th>\n",
       "      <th>MSE</th>\n",
       "    </tr>\n",
       "    <tr>\n",
       "      <th>Tahun</th>\n",
       "      <th></th>\n",
       "      <th></th>\n",
       "      <th></th>\n",
       "    </tr>\n",
       "  </thead>\n",
       "  <tbody>\n",
       "    <tr>\n",
       "      <th>2018</th>\n",
       "      <td>67.81</td>\n",
       "      <td>59.850037</td>\n",
       "      <td>63.361017</td>\n",
       "    </tr>\n",
       "    <tr>\n",
       "      <th>2019</th>\n",
       "      <td>68.27</td>\n",
       "      <td>60.026268</td>\n",
       "      <td>67.959117</td>\n",
       "    </tr>\n",
       "    <tr>\n",
       "      <th>2020</th>\n",
       "      <td>68.22</td>\n",
       "      <td>60.395630</td>\n",
       "      <td>61.220768</td>\n",
       "    </tr>\n",
       "    <tr>\n",
       "      <th>2021</th>\n",
       "      <td>68.43</td>\n",
       "      <td>60.638840</td>\n",
       "      <td>60.702178</td>\n",
       "    </tr>\n",
       "    <tr>\n",
       "      <th>2022</th>\n",
       "      <td>68.89</td>\n",
       "      <td>60.626453</td>\n",
       "      <td>68.286202</td>\n",
       "    </tr>\n",
       "  </tbody>\n",
       "</table>\n",
       "</div>"
      ],
      "text/plain": [
       "        Data  Prediction        MSE\n",
       "Tahun                              \n",
       "2018   67.81   59.850037  63.361017\n",
       "2019   68.27   60.026268  67.959117\n",
       "2020   68.22   60.395630  61.220768\n",
       "2021   68.43   60.638840  60.702178\n",
       "2022   68.89   60.626453  68.286202"
      ]
     },
     "execution_count": 657,
     "metadata": {},
     "output_type": "execute_result"
    }
   ],
   "source": [
    "valid"
   ]
  },
  {
   "cell_type": "code",
   "execution_count": 658,
   "metadata": {},
   "outputs": [
    {
     "name": "stdout",
     "output_type": "stream",
     "text": [
      "MAPE \t\t=11.732801245076029%\n",
      "Accuracy \t=88.267%\n"
     ]
    }
   ],
   "source": [
    "#MAPE and Accuracy\n",
    "mape = mape(y_test, pred)   #validation\n",
    "acc = round(100 - mape, 3)\n",
    "print('MAPE \\t\\t=' + str(mape) + '%') \n",
    "print('Accuracy \\t=' + str(acc) + '%') #akurasi testing"
   ]
  },
  {
   "cell_type": "code",
   "execution_count": 659,
   "metadata": {},
   "outputs": [
    {
     "data": {
      "text/plain": [
       "5"
      ]
     },
     "execution_count": 659,
     "metadata": {},
     "output_type": "execute_result"
    }
   ],
   "source": [
    "#PREDICT HDI'S FUTURE\n",
    "\n",
    "len(X_test)"
   ]
  },
  {
   "cell_type": "code",
   "execution_count": 660,
   "metadata": {},
   "outputs": [],
   "source": [
    "updated_data = []\n",
    "for i in range(0, len(X_test[-1])):\n",
    "  if i == 0:\n",
    "    pass\n",
    "  else:\n",
    "    updated_data.append(X_test[-1][i])\n",
    "updated_data.append([0])\n",
    "updated_data = np.array(updated_data)"
   ]
  },
  {
   "cell_type": "code",
   "execution_count": 661,
   "metadata": {},
   "outputs": [
    {
     "name": "stdout",
     "output_type": "stream",
     "text": [
      "1/1 [==============================] - 0s 74ms/step\n"
     ]
    }
   ],
   "source": [
    "X_test = np.append(X_test, [updated_data], axis=0)\n",
    "X_test = np.asarray(X_test).astype(np.float32)\n",
    "X_test = np.reshape(X_test, (X_test.shape[0], X_test.shape[1],1))\n",
    "\n",
    "updated_pred = model.predict(X_test)\n",
    "updated_pred = minmax_scaler.inverse_transform(updated_pred) "
   ]
  },
  {
   "cell_type": "code",
   "execution_count": 662,
   "metadata": {},
   "outputs": [
    {
     "data": {
      "text/plain": [
       "array([60.337734], dtype=float32)"
      ]
     },
     "execution_count": 662,
     "metadata": {},
     "output_type": "execute_result"
    }
   ],
   "source": [
    "#Reading the result data after upgrading process on prediction using data testing\n",
    "rest_predict = updated_pred[-1]\n",
    "rest_predict"
   ]
  }
 ],
 "metadata": {
  "kernelspec": {
   "display_name": "Python 3",
   "language": "python",
   "name": "python3"
  },
  "language_info": {
   "codemirror_mode": {
    "name": "ipython",
    "version": 3
   },
   "file_extension": ".py",
   "mimetype": "text/x-python",
   "name": "python",
   "nbconvert_exporter": "python",
   "pygments_lexer": "ipython3",
   "version": "3.9.7"
  },
  "orig_nbformat": 4
 },
 "nbformat": 4,
 "nbformat_minor": 2
}
